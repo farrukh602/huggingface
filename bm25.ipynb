{
 "cells": [
  {
   "cell_type": "code",
   "execution_count": 3,
   "id": "36354d21-548f-41b2-b09c-fe9df0847cfd",
   "metadata": {},
   "outputs": [
    {
     "name": "stderr",
     "output_type": "stream",
     "text": [
      "[nltk_data] Downloading package punkt to\n",
      "[nltk_data]     C:\\Users\\Pakistan\\AppData\\Roaming\\nltk_data...\n",
      "[nltk_data]   Package punkt is already up-to-date!\n",
      "[nltk_data] Downloading package stopwords to\n",
      "[nltk_data]     C:\\Users\\Pakistan\\AppData\\Roaming\\nltk_data...\n",
      "[nltk_data]   Package stopwords is already up-to-date!\n"
     ]
    }
   ],
   "source": [
    "import numpy as np\n",
    "import pandas as pd\n",
    "\n",
    "from rank_bm25 import BM25Okapi\n",
    "\n",
    "import nltk\n",
    "from nltk.tokenize import word_tokenize\n",
    "nltk.download('punkt')\n",
    "nltk.download('stopwords')\n",
    "\n",
    "from datasets import load_dataset"
   ]
  },
  {
   "cell_type": "code",
   "execution_count": 4,
   "id": "ab73856c-187c-4f30-b40b-878e185a9610",
   "metadata": {},
   "outputs": [],
   "source": [
    "subjqa=load_dataset('subjqa','books', trust_remote_code=True)\n",
    "data=subjqa['train']\n",
    "data = pd.DataFrame(data,columns=['context', 'question', 'answer'])\n",
    "documents=data['context'].to_list()"
   ]
  },
  {
   "cell_type": "code",
   "execution_count": 6,
   "id": "660fd8b9",
   "metadata": {},
   "outputs": [
    {
     "name": "stdout",
     "output_type": "stream",
     "text": [
      "I read this for book club and I think there will be plenty to discuss. He has some very interesting insights and explanations of globalization, especially on the side of technology, supply chains, and politics. I learned a lot, especially about India and China and felt there was plenty to chew over. One drawback: Where he could say something in 100 words he used 500.\n"
     ]
    }
   ],
   "source": [
    "# Generate tokens out of contexts in the data\n",
    "context_tokens = [word_tokenize(context.lower()) for context in documents]\n",
    "\n",
    "# Instantiate the BM25 model\n",
    "bm25 = BM25Okapi(context_tokens)\n",
    "\n",
    "query = \"economy and technology book\"\n",
    "\n",
    "def relevent_review(query):\n",
    "    query_tokens = word_tokenize(query.lower())\n",
    "    scores = bm25.get_scores(query_tokens)\n",
    "    max_score_idx = np.argmax(scores)\n",
    "    most_relevent_doc=documents[max_score_idx]\n",
    "    return most_relevent_doc\n",
    "\n",
    "\n",
    "review=relevent_review(query)\n",
    "print(review)\n",
    "\n"
   ]
  }
 ],
 "metadata": {
  "kernelspec": {
   "display_name": "Python 3 (ipykernel)",
   "language": "python",
   "name": "python3"
  },
  "language_info": {
   "codemirror_mode": {
    "name": "ipython",
    "version": 3
   },
   "file_extension": ".py",
   "mimetype": "text/x-python",
   "name": "python",
   "nbconvert_exporter": "python",
   "pygments_lexer": "ipython3",
   "version": "3.12.4"
  }
 },
 "nbformat": 4,
 "nbformat_minor": 5
}
