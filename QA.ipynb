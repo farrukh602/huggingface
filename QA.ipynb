{
 "cells": [
  {
   "cell_type": "code",
   "execution_count": 18,
   "id": "398c05c1-738f-4d91-ab8a-37772d17d344",
   "metadata": {},
   "outputs": [],
   "source": [
    "import numpy as np\n",
    "import matplotlib.pyplot as plt\n",
    "import pandas as pd\n",
    "import transformers"
   ]
  },
  {
   "cell_type": "code",
   "execution_count": 33,
   "id": "1a44727b-5b75-4b2b-84fe-d7c67cafd700",
   "metadata": {},
   "outputs": [],
   "source": [
    "from datasets import load_dataset\n",
    "subjqa = load_dataset(\"subjqa\", name=\"electronics\")\n"
   ]
  },
  {
   "cell_type": "code",
   "execution_count": 34,
   "id": "5820ed3c-85fd-41ba-8955-06dbd41184c4",
   "metadata": {
    "scrolled": true
   },
   "outputs": [],
   "source": [
    "dfs = {split: dset.to_pandas() for split, dset in subjqa.flatten().items()}"
   ]
  },
  {
   "cell_type": "code",
   "execution_count": 43,
   "id": "befd1c55-b44e-4f0a-8fa9-8deb05b4c38b",
   "metadata": {},
   "outputs": [
    {
     "name": "stdout",
     "output_type": "stream",
     "text": [
      "Number of questions in train: 1295\n",
      "Number of questions in test: 358\n",
      "Number of questions in validation: 255\n"
     ]
    }
   ],
   "source": [
    "for split, df in dfs.items():\n",
    " print(f\"Number of questions in {split}: {df['id'].nunique()}\")"
   ]
  },
  {
   "cell_type": "code",
   "execution_count": 54,
   "id": "10d0263d-4b57-4194-8e3b-a3401b099f84",
   "metadata": {},
   "outputs": [
    {
     "data": {
      "text/html": [
       "<div>\n",
       "<style scoped>\n",
       "    .dataframe tbody tr th:only-of-type {\n",
       "        vertical-align: middle;\n",
       "    }\n",
       "\n",
       "    .dataframe tbody tr th {\n",
       "        vertical-align: top;\n",
       "    }\n",
       "\n",
       "    .dataframe thead th {\n",
       "        text-align: right;\n",
       "    }\n",
       "</style>\n",
       "<table border=\"1\" class=\"dataframe\">\n",
       "  <thead>\n",
       "    <tr style=\"text-align: right;\">\n",
       "      <th></th>\n",
       "      <th>title</th>\n",
       "      <th>question</th>\n",
       "      <th>answers.text</th>\n",
       "      <th>answers.answer_start</th>\n",
       "      <th>context</th>\n",
       "    </tr>\n",
       "  </thead>\n",
       "  <tbody>\n",
       "    <tr>\n",
       "      <th>90</th>\n",
       "      <td>B0007M3PKS</td>\n",
       "      <td>How is the bar?</td>\n",
       "      <td>[]</td>\n",
       "      <td>[]</td>\n",
       "      <td>I'm impressed with the image quality of home m...</td>\n",
       "    </tr>\n",
       "    <tr>\n",
       "      <th>1111</th>\n",
       "      <td>B0096YOQRY</td>\n",
       "      <td>How is the remote?</td>\n",
       "      <td>[]</td>\n",
       "      <td>[]</td>\n",
       "      <td>The picture is pretty GOOD. I'm not going to s...</td>\n",
       "    </tr>\n",
       "  </tbody>\n",
       "</table>\n",
       "</div>"
      ],
      "text/plain": [
       "           title            question answers.text answers.answer_start  \\\n",
       "90    B0007M3PKS     How is the bar?           []                   []   \n",
       "1111  B0096YOQRY  How is the remote?           []                   []   \n",
       "\n",
       "                                                context  \n",
       "90    I'm impressed with the image quality of home m...  \n",
       "1111  The picture is pretty GOOD. I'm not going to s...  "
      ]
     },
     "execution_count": 54,
     "metadata": {},
     "output_type": "execute_result"
    }
   ],
   "source": [
    "qa_cols = [\"title\", \"question\", \"answers.text\",\n",
    " \"answers.answer_start\", \"context\"]\n",
    "sample_df = dfs['train'][qa_cols].sample(2, random_state=34)\n",
    "sample_df"
   ]
  },
  {
   "cell_type": "code",
   "execution_count": 92,
   "id": "3b7545b8-99ba-4428-bc51-31a360019b36",
   "metadata": {},
   "outputs": [
    {
     "data": {
      "image/png": "[encoded data removed]",
      "text/plain": [
       "<Figure size 640x480 with 1 Axes>"
      ]
     },
     "metadata": {},
     "output_type": "display_data"
    }
   ],
   "source": [
    "# Question word counts\n",
    "question_types=[]\n",
    "for i in range(dfs['train'].shape[0]):\n",
    "    question_type = dfs['train']['question'][i].split()[0]\n",
    "    question_types.append(question_word)\n",
    "question_types = set(question_words)\n",
    "\n",
    "# Question type counts\n",
    "counts = {}\n",
    "for q in question_types:\n",
    "    \n",
    "    counts[q] = dfs['train']['question'].str.startswith(q).value_counts()[True]\n",
    "    \n",
    "pd.Series(counts).sort_values().plot.barh()\n",
    "plt.title('frequency of question types')\n",
    "plt.show()\n"
   ]
  },
  {
   "cell_type": "code",
   "execution_count": 79,
   "id": "0616d146-b680-4112-8c1c-e74f98663da5",
   "metadata": {
    "scrolled": true
   },
   "outputs": [
    {
     "data": {
      "text/plain": [
       "780"
      ]
     },
     "execution_count": 79,
     "metadata": {},
     "output_type": "execute_result"
    }
   ],
   "source": [
    "question"
   ]
  },
  {
   "cell_type": "code",
   "execution_count": null,
   "id": "8eb79aac-82b1-459c-9b0e-cf85c54a3af1",
   "metadata": {},
   "outputs": [],
   "source": []
  }
 ],
 "metadata": {
  "kernelspec": {
   "display_name": "Python 3 (ipykernel)",
   "language": "python",
   "name": "python3"
  },
  "language_info": {
   "codemirror_mode": {
    "name": "ipython",
    "version": 3
   },
   "file_extension": ".py",
   "mimetype": "text/x-python",
   "name": "python",
   "nbconvert_exporter": "python",
   "pygments_lexer": "ipython3",
   "version": "3.12.2"
  }
 },
 "nbformat": 4,
 "nbformat_minor": 5
}
