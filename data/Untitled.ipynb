{
 "cells": [
  {
   "cell_type": "code",
   "execution_count": 89,
   "id": "f4624595-7c6e-4d15-b9f9-ca950e5df86d",
   "metadata": {},
   "outputs": [
    {
     "data": {
      "text/plain": [
       "312"
      ]
     },
     "execution_count": 89,
     "metadata": {},
     "output_type": "execute_result"
    }
   ],
   "source": [
    "import numpy as np\n",
    "# np.random.seed(435)\n",
    "predef_bday=  np.random.randint(0,365)\n",
    "predef_bday"
   ]
  },
  {
   "cell_type": "code",
   "execution_count": 98,
   "id": "2d4c6a46-f753-48d0-ab3c-34b071c9bd9d",
   "metadata": {},
   "outputs": [
    {
     "name": "stdout",
     "output_type": "stream",
     "text": [
      "0.54\n"
     ]
    }
   ],
   "source": [
    "# np.random.seed(2345)\n",
    "predef_bday=  np.random.randint(0,365)\n",
    "\n",
    "\n",
    "n_simulations=100\n",
    "\n",
    "\n",
    "n_students=250   # classroom size\n",
    "match=0\n",
    "for _ in range(n_simulations):\n",
    "    gen_bdays=np.random.randint(0,365,n_students)\n",
    "    if predef_bday in gen_bdays:\n",
    "        match+=1\n",
    "        # print(True)\n",
    "print(match/n_simulations)\n",
    "\n",
    "# predef_bday in gen_bdays\n",
    "# gen_bdays"
   ]
  },
  {
   "cell_type": "code",
   "execution_count": 28,
   "id": "d8ad7103-c292-44c4-a16d-7bcecb18c48d",
   "metadata": {},
   "outputs": [
    {
     "name": "stdout",
     "output_type": "stream",
     "text": [
      "False\n"
     ]
    }
   ],
   "source": [
    "a=3\n",
    "print(a==1)"
   ]
  },
  {
   "cell_type": "code",
   "execution_count": 29,
   "id": "87554c46-66b9-4852-a2d9-67beb8ba4813",
   "metadata": {},
   "outputs": [
    {
     "name": "stdout",
     "output_type": "stream",
     "text": [
      "True\n"
     ]
    }
   ],
   "source": [
    "print(True)"
   ]
  },
  {
   "cell_type": "code",
   "execution_count": null,
   "id": "7ddddc80-90c8-4c9e-8ccd-d63be455f4b1",
   "metadata": {},
   "outputs": [],
   "source": []
  }
 ],
 "metadata": {
  "kernelspec": {
   "display_name": "Python 3 (ipykernel)",
   "language": "python",
   "name": "python3"
  },
  "language_info": {
   "codemirror_mode": {
    "name": "ipython",
    "version": 3
   },
   "file_extension": ".py",
   "mimetype": "text/x-python",
   "name": "python",
   "nbconvert_exporter": "python",
   "pygments_lexer": "ipython3",
   "version": "3.12.2"
  }
 },
 "nbformat": 4,
 "nbformat_minor": 5
}
